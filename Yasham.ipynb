{
 "cells": [
  {
   "cell_type": "markdown",
   "id": "1d9d9d1b-5547-4406-93ae-8690665481a0",
   "metadata": {},
   "source": [
    "## Imports"
   ]
  },
  {
   "cell_type": "code",
   "execution_count": 70,
   "id": "84e076f5-0951-476f-9682-a1077259ebda",
   "metadata": {},
   "outputs": [],
   "source": [
    "from bs4 import BeautifulSoup\n",
    "from openai import OpenAI\n",
    "import json\n",
    "from dotenv import load_dotenv\n",
    "from IPython.display import display, Markdown\n",
    "import os\n",
    "import requests"
   ]
  },
  {
   "cell_type": "markdown",
   "id": "911d2c7b-b283-4813-9f82-6b01f88c5df6",
   "metadata": {},
   "source": [
    "## Initialization"
   ]
  },
  {
   "cell_type": "code",
   "execution_count": 71,
   "id": "0804f05c-1316-41e8-afb8-f59dc4f0d5f7",
   "metadata": {},
   "outputs": [],
   "source": [
    "MODEL = \"gemini-2.5-flash\"\n",
    "\n",
    "load_dotenv()\n",
    "google_api_key = os.getenv(\"GOOGLE_API_KEY\")\n",
    "\n",
    "gemini = OpenAI(\n",
    "    base_url=\"https://generativelanguage.googleapis.com/v1beta/openai/\",\n",
    "    api_key= google_api_key\n",
    ")"
   ]
  },
  {
   "cell_type": "markdown",
   "id": "d814bb4b-7c86-422b-ba16-118bd423f7d5",
   "metadata": {},
   "source": [
    "## Scrapping Data"
   ]
  },
  {
   "cell_type": "code",
   "execution_count": 72,
   "id": "af50b36e-267c-4797-b7bd-726f1e67644a",
   "metadata": {},
   "outputs": [],
   "source": [
    "class Website:\n",
    "    def __init__(self, url):\n",
    "        self.url = url\n",
    "\n",
    "        response = requests.get(url, headers={'User-Agent': 'Mozilla/5.0'})\n",
    "        soup = BeautifulSoup(response.text, 'html.parser')\n",
    "\n",
    "        title_tag = soup.find('title')\n",
    "        self.title = title_tag.get_text(strip=True) if title_tag else \"unknown\"\n",
    "\n",
    "        for tag in soup(['style', 'script', 'img', 'input']):\n",
    "            tag.decompose()\n",
    "\n",
    "        self.text = soup.get_text(separator=\"\\n\", strip=True)\n",
    "\n",
    "        self.links = [link.get('href') for link in soup.find_all('a', href=True)]\n",
    "\n",
    "    def get_contents(self):\n",
    "        return f\"Title: {self.title}\\n\\nText: {self.text}\""
   ]
  },
  {
   "cell_type": "markdown",
   "id": "f53522c6-f325-4f36-a5eb-850d41437682",
   "metadata": {},
   "source": [
    "## Defining System Prompt for Scrapping usefull links"
   ]
  },
  {
   "cell_type": "code",
   "execution_count": 73,
   "id": "b6303371",
   "metadata": {},
   "outputs": [],
   "source": [
    "link_system_prompt = \"You are provided with a list of links found on a webpage. \\\n",
    "Your task is to identify and extract links that directly point to recycling centers or organizations offering recycling services. \\\n",
    "These links typically correspond to specific listings of recycling providers and may lead to more details about the center, contact info, or services offered.\\n\"\n",
    "\n",
    "link_system_prompt += \"Ignore any links that are related to navigation, login, terms, privacy policies, or advertisements.\\n\"\n",
    "\n",
    "link_system_prompt += \"You should respond in JSON format as in the following example:\"\n",
    "link_system_prompt += \"\"\"\n",
    "{\n",
    "    \"links\": [\n",
    "        {\"name\": \"IMobile LLC\", \"url\": \"https://example.com/centers/imobile-llc\"},\n",
    "        {\"name\": \"The 4th Bin\", \"url\": \"https://example.com/centers/the-4th-bin\"}\n",
    "    ]\n",
    "}\n",
    "\"\"\""
   ]
  },
  {
   "cell_type": "markdown",
   "id": "851a6dfb-867f-41cb-b208-dccba114e65b",
   "metadata": {},
   "source": [
    "## User prompt"
   ]
  },
  {
   "cell_type": "code",
   "execution_count": 74,
   "id": "8883d166-da7e-470d-bcf7-7b23947b687a",
   "metadata": {},
   "outputs": [],
   "source": [
    "def get_links_user_prompt(website):\n",
    "    user_prompt = f\"Here is a list of links from the website {website.url}.\\n\"\n",
    "    user_prompt += \"Can you help extract only the links that point to actual recycling centers listed on the page? \\\n",
    "I’m interested in links that go to specific recycling service providers such as 'IMobile LLC', 'The 4th Bin', or 'NYC Bulk Item Program'.\\n\"\n",
    "    user_prompt += \"Ignore links that lead to maps, login pages, legal documents, FAQs, or general navigation.\\n\"\n",
    "    user_prompt += \"Also, convert any relative URLs to full `https://` URLs based on the page's domain.\\n\"\n",
    "    user_prompt += \"Please return results in JSON format as:\\n\"\n",
    "    user_prompt += '{\"links\": [{\"name\": \"<center name>\", \"url\": \"<full url>\"}]}\\n\\n'\n",
    "    user_prompt += \"Here are the links:\\n\"\n",
    "    user_prompt += \"\\n\".join(website.links)\n",
    "    return user_prompt\n"
   ]
  },
  {
   "cell_type": "markdown",
   "id": "eac841ff-fdb2-468c-8ee9-6a7c98fc4c13",
   "metadata": {},
   "source": [
    "## Helping function to convert output data in JSON"
   ]
  },
  {
   "cell_type": "code",
   "execution_count": null,
   "id": "dffc4e12",
   "metadata": {},
   "outputs": [],
   "source": [
    "def to_json(result):\n",
    "    json_string = re.search(r'```json\\s*(\\{.*?\\})\\s*```', result, re.DOTALL).group(1)\n",
    "    json_data = json.loads(json_string)\n",
    "    return json_data"
   ]
  },
  {
   "cell_type": "code",
   "execution_count": 76,
   "id": "d5378054-e81e-4e7e-a1c7-950e26151f0d",
   "metadata": {},
   "outputs": [],
   "source": [
    "def extract_json_array(text):\n",
    "    match = re.search(r'(\\[\\s*{.*?}\\s*\\])', text, re.DOTALL)\n",
    "    if match:\n",
    "        try:\n",
    "            data = json.loads(match.group(1))\n",
    "            return data\n",
    "        except json.JSONDecodeError:\n",
    "            print(\"Matched text is not valid JSON.\")\n",
    "            return None\n",
    "    else:\n",
    "        print(\"No JSON array found in the input.\")\n",
    "        return None"
   ]
  },
  {
   "cell_type": "markdown",
   "id": "a7a66b76-df47-4bec-b475-9f24356e5cd9",
   "metadata": {},
   "source": [
    "## Function that extracts usefull links using LLM"
   ]
  },
  {
   "cell_type": "code",
   "execution_count": 77,
   "id": "370324d8-79d2-48ee-90e8-d3a7245ec35e",
   "metadata": {
    "scrolled": true
   },
   "outputs": [],
   "source": [
    "def get_links(url):\n",
    "    website = Website(url)\n",
    "    user_prompt = get_links_user_prompt(website)\n",
    "    if user_prompt:\n",
    "        response = gemini.chat.completions.create(\n",
    "            model=\"gemini-2.5-flash\",\n",
    "            messages=[\n",
    "                {\"role\": \"system\", \"content\": link_system_prompt},\n",
    "                {\"role\": \"user\", \"content\": user_prompt}\n",
    "            ]\n",
    "        )\n",
    "        result =  response.choices[0].message.content\n",
    "        return result"
   ]
  },
  {
   "cell_type": "markdown",
   "id": "0026fd66-5c79-4561-8bc4-fe2b4fae4c07",
   "metadata": {},
   "source": [
    "## Function to get full scrapped details"
   ]
  },
  {
   "cell_type": "code",
   "execution_count": 78,
   "id": "b7ab8788",
   "metadata": {},
   "outputs": [],
   "source": [
    "def get_all_details(url):\n",
    "    result = \"Landing page:\\n\"\n",
    "    result += Website(url).get_contents()\n",
    "    links = to_json(get_links(url))\n",
    "    \n",
    "    for link in links[\"links\"]:\n",
    "        result += f\"\\n\\n{link['name']}\\n\"\n",
    "        result += Website(link[\"url\"]).get_contents()\n",
    "    return result"
   ]
  },
  {
   "cell_type": "markdown",
   "id": "f883b255-41c0-4602-b6d7-f96673e7029d",
   "metadata": {},
   "source": [
    "## System prompt for main function"
   ]
  },
  {
   "cell_type": "code",
   "execution_count": 79,
   "id": "6ede28b3-b113-4538-a218-194fec6fed52",
   "metadata": {},
   "outputs": [],
   "source": [
    "scraper_system_prompt = \"\"\"\n",
    "            You are an intelligent assistant designed to extract structured recycling facility data from semi-structured or unstructured web content such as search result pages or listings.\n",
    "            \n",
    "            Your task is to extract **only relevant recycling facility entries** and convert them into JSON records following the exact format provided below.\n",
    "            \n",
    "            Each facility should include:\n",
    "            - business_name: Official name of the recycling center\n",
    "            - last_update_date: The last date when the listing or information was updated (if not available, write \"unknown\")\n",
    "            - street_address: The full physical address of the center\n",
    "            - materials_category: One or more main categories (choose only from the predefined list below)\n",
    "            - materials_accepted: Exact matches from the allowed material options listed under the categories\n",
    "            \n",
    "            Match and classify listed materials with the **most appropriate sub-categories** provided below. Avoid vague generalizations — match as specifically as possible.\n",
    "            \n",
    "            ---\n",
    "            \n",
    "            ### Allowed Categories and Accepted Materials\n",
    "            \n",
    "            Electronics:\n",
    "            1. Computers, Laptops, Tablets\n",
    "            2. Monitors, TVs (CRT & Flat Screen)\n",
    "            3. Cell Phones, Smartphones\n",
    "            4. Printers, Copiers, Fax Machines\n",
    "            5. Audio/Video Equipment\n",
    "            6. Gaming Consoles\n",
    "            7. Small Appliances (Microwaves, Toasters, etc.)\n",
    "            8. Computer Peripherals (Keyboards, Mice, Cables, etc.)\n",
    "            \n",
    "            Batteries:\n",
    "            1. Household Batteries (AA, AAA, 9V, etc.)\n",
    "            2. Rechargeable Batteries\n",
    "            3. Lithium-ion Batteries\n",
    "            4. Button/Watch Batteries\n",
    "            5. Power Tool Batteries\n",
    "            6. E-bike/Scooter Batteries\n",
    "            7. Car/Automotive Batteries\n",
    "            \n",
    "            Paint & Chemicals:\n",
    "            1. Latex/Water-based Paint\n",
    "            2. Oil-based Paint and Stains\n",
    "            3. Spray Paint\n",
    "            4. Paint Thinners and Solvents\n",
    "            5. Household Cleaners\n",
    "            6. Pool Chemicals\n",
    "            7. Pesticides and Herbicides\n",
    "            8. Automotive Fluids (Oil, Antifreeze)\n",
    "            \n",
    "            Medical Sharps:\n",
    "            1. Needles and Syringes\n",
    "            2. Lancets\n",
    "            3. Auto-injectors (EpiPens)\n",
    "            4. Insulin Pens\n",
    "            5. Home Dialysis Equipment\n",
    "            \n",
    "            Textiles & Clothing:\n",
    "            1. Clothing and Shoes\n",
    "            2. Household Textiles (Towels, Bedding)\n",
    "            3. Fabric Scraps\n",
    "            4. Accessories (Belts, Bags, etc.)\n",
    "            \n",
    "            Other Important Materials:\n",
    "            1. Fluorescent Bulbs and CFLs\n",
    "            2. Mercury Thermometers\n",
    "            3. Smoke Detectors\n",
    "            4. Fire Extinguishers\n",
    "            5. Propane Tanks\n",
    "            6. Mattresses and Box Springs\n",
    "            7. Large Appliances (Fridges, Washers, etc.)\n",
    "            8. Construction Debris (Residential Quantities)\n",
    "            \n",
    "            ---\n",
    "            \n",
    "            ### Output Format Example:\n",
    "            \n",
    "            [\n",
    "              {\n",
    "                \"business_name\": \"Green Earth Recyclers\",\n",
    "                \"last_update_date\": \"2023-11-04\",\n",
    "                \"street_address\": \"123 5th Ave, New York, NY 10001\",\n",
    "                \"materials_category\": [\"Electronics\", \"Batteries\"],\n",
    "                \"materials_accepted\": [\"Computers, Laptops, Tablets\", \"Cell Phones, Smartphones\", \"Lithium-ion Batteries\"]\n",
    "              }\n",
    "            ]\n",
    "            \n",
    "            ---\n",
    "            \n",
    "            If a facility only mentions general items (e.g., “electronics” or “batteries”), try to reasonably infer the correct materials_accepted using common-sense mapping based on industry practices.\n",
    "            \n",
    "            If a category or material cannot be clearly identified, **exclude that item**.\n",
    "            \n",
    "            Return **only an array of 3 or more valid facilities** in the JSON structure shown.\n",
    "            \"\"\"\n"
   ]
  },
  {
   "cell_type": "markdown",
   "id": "e63b97c1-4014-4c26-bc77-8a21a9b5957c",
   "metadata": {},
   "source": [
    "## User Prompt"
   ]
  },
  {
   "cell_type": "code",
   "execution_count": 80,
   "id": "6757c136-0f89-40d5-9beb-61120b719ad3",
   "metadata": {},
   "outputs": [],
   "source": [
    "def get_facility_extraction_user_prompt(scraped_text):\n",
    "    return f\"\"\"\n",
    "            Below is the raw text content extracted from a webpage listing recycling centers for \"Electronics\" near ZIP code 10001 within 100 miles:\n",
    "            \n",
    "            ---\n",
    "            {scraped_text}\n",
    "            ---\n",
    "            \n",
    "            Please read the listings and extract details for at least 3 unique recycling facilities.\n",
    "            \n",
    "            For each facility, include the following fields in the output:\n",
    "            - business_name\n",
    "            - last_update_date (if missing, write \"unknown\")\n",
    "            - street_address\n",
    "            - materials_category (only from the allowed categories)\n",
    "            - materials_accepted (only from the allowed options under those categories)\n",
    "            \n",
    "            Make sure to classify the materials into the **correct predefined categories** and return the output in **clean structured JSON format** as shown in the example:\n",
    "            \n",
    "            [\n",
    "              {{\n",
    "                \"business_name\": \"Sample Facility\",\n",
    "                \"last_update_date\": \"unknown\",\n",
    "                \"street_address\": \"123 4th Ave, New York, NY 10001\",\n",
    "                \"materials_category\": [\"Electronics\"],\n",
    "                \"materials_accepted\": [\"Cell Phones, Smartphones\", \"Computers, Laptops, Tablets\"]\n",
    "              }}\n",
    "            ]\n",
    "            \n",
    "            If some details (like update date) are not mentioned, use \"unknown\". Do not hallucinate or guess names — only use what is clearly present.\n",
    "            \"\"\"\n"
   ]
  },
  {
   "cell_type": "markdown",
   "id": "1ad8dfe2-754d-4b90-9153-57f329bae8b2",
   "metadata": {},
   "source": [
    "## Main function that generates JSON output for each facility"
   ]
  },
  {
   "cell_type": "code",
   "execution_count": 63,
   "id": "0b63aceb-2655-4df9-a80b-515724ef35a9",
   "metadata": {},
   "outputs": [],
   "source": [
    "def get_facilities(url):\n",
    "    website = Website(url)\n",
    "    user_prompt = get_links_user_prompt(website)\n",
    "    text = get_all_details(url)\n",
    "    if user_prompt:\n",
    "        response = gemini.chat.completions.create(\n",
    "            model=\"gemini-2.5-flash\",\n",
    "            messages=[\n",
    "                {\"role\": \"system\", \"content\": scraper_system_prompt},\n",
    "                {\"role\": \"user\", \"content\": get_facility_extraction_user_prompt(text)}\n",
    "            ]\n",
    "        )\n",
    "        result = response.choices[0].message.content\n",
    "        result = extract_json_array(result)\n",
    "        return result"
   ]
  },
  {
   "cell_type": "code",
   "execution_count": 64,
   "id": "d30b6106-ec15-4dd4-927f-36c58bc7517a",
   "metadata": {},
   "outputs": [],
   "source": [
    "facilities = get_facilities(\"https://search.earth911.com/?what=Electronics&where=10001&list_filter=all&max_distance=100&family_id=&latitude=&longitude=&country=&province=&city=&sponsor=\")"
   ]
  },
  {
   "cell_type": "code",
   "execution_count": 65,
   "id": "0cd62456-fd3d-48f6-85b9-ed62fec959ad",
   "metadata": {
    "scrolled": true
   },
   "outputs": [
    {
     "data": {
      "text/plain": [
       "[{'business_name': 'IMobile LLC',\n",
       "  'last_update_date': '2012-02-29',\n",
       "  'street_address': '370 7th Ave, New York, NY 10001',\n",
       "  'materials_category': ['Electronics'],\n",
       "  'materials_accepted': ['Cell Phones, Smartphones',\n",
       "   'Computer Peripherals (Keyboards, Mice, Cables, etc.)']},\n",
       " {'business_name': 'The 4th Bin',\n",
       "  'last_update_date': '2010-02-17',\n",
       "  'street_address': '307 7th Ave, New York, NY 10001',\n",
       "  'materials_category': ['Electronics'],\n",
       "  'materials_accepted': ['Cell Phones, Smartphones',\n",
       "   'Computers, Laptops, Tablets',\n",
       "   'Printers, Copiers, Fax Machines',\n",
       "   'Monitors, TVs (CRT & Flat Screen)',\n",
       "   'Audio/Video Equipment']},\n",
       " {'business_name': \"Willoughby's\",\n",
       "  'last_update_date': '2011-02-11',\n",
       "  'street_address': '298 5th Ave, New York, NY 10001',\n",
       "  'materials_category': ['Electronics', 'Batteries'],\n",
       "  'materials_accepted': ['Cell Phones, Smartphones',\n",
       "   'Computers, Laptops, Tablets',\n",
       "   'Gaming Consoles',\n",
       "   'Audio/Video Equipment',\n",
       "   'Lithium-ion Batteries',\n",
       "   'Rechargeable Batteries']},\n",
       " {'business_name': 'ProTek Recycling Inc.',\n",
       "  'last_update_date': '2013-03-25',\n",
       "  'street_address': '276 5th Avenue, New York, NY 10001',\n",
       "  'materials_category': ['Electronics'],\n",
       "  'materials_accepted': ['Audio/Video Equipment',\n",
       "   'Computer Peripherals (Keyboards, Mice, Cables, etc.)',\n",
       "   'Cell Phones, Smartphones',\n",
       "   'Monitors, TVs (CRT & Flat Screen)',\n",
       "   'Computers, Laptops, Tablets',\n",
       "   'Gaming Consoles',\n",
       "   'Printers, Copiers, Fax Machines',\n",
       "   'Small Appliances']},\n",
       " {'business_name': 'Staples',\n",
       "  'last_update_date': '2013-09-04',\n",
       "  'street_address': '500 8th Avenue, New York, NY 10018',\n",
       "  'materials_category': ['Electronics', 'Batteries'],\n",
       "  'materials_accepted': ['Cell Phones, Smartphones',\n",
       "   'Computer Peripherals (Keyboards, Mice, Cables, etc.)',\n",
       "   'Monitors, TVs (CRT & Flat Screen)',\n",
       "   'Computers, Laptops, Tablets',\n",
       "   'Audio/Video Equipment',\n",
       "   'Printers, Copiers, Fax Machines',\n",
       "   'Small Appliances',\n",
       "   'Lithium-ion Batteries',\n",
       "   'Rechargeable Batteries']}]"
      ]
     },
     "execution_count": 65,
     "metadata": {},
     "output_type": "execute_result"
    }
   ],
   "source": [
    "facilities"
   ]
  },
  {
   "cell_type": "code",
   "execution_count": null,
   "id": "ef3305c7-3132-4ca1-9ce7-f3365011c417",
   "metadata": {},
   "outputs": [],
   "source": []
  }
 ],
 "metadata": {
  "kernelspec": {
   "display_name": "Python 3 (ipykernel)",
   "language": "python",
   "name": "python3"
  },
  "language_info": {
   "codemirror_mode": {
    "name": "ipython",
    "version": 3
   },
   "file_extension": ".py",
   "mimetype": "text/x-python",
   "name": "python",
   "nbconvert_exporter": "python",
   "pygments_lexer": "ipython3",
   "version": "3.10.18"
  }
 },
 "nbformat": 4,
 "nbformat_minor": 5
}
